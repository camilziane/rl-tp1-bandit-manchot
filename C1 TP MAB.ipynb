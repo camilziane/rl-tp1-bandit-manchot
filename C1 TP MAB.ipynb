{
 "cells": [
  {
   "cell_type": "markdown",
   "metadata": {},
   "source": [
    "Les graphiques ont été volontairement nettoyés en raison de bugs d'affichage liés aux animations. \n",
    "\n",
    "Il est donc nécessaire de redémarrer le notebook pour les visualiser tous."
   ]
  },
  {
   "cell_type": "markdown",
   "metadata": {
    "tags": []
   },
   "source": [
    "Ziane Camil\n",
    "\n",
    "Nakache Eithan\n",
    "\n",
    "\n",
    "\n",
    "# Introduction à l'apprentissage par renforcement\n",
    "# TP 1 - les manchots multi-bras\n",
    "\n",
    "1/4 de la note finale est liée à la mise en forme : \n",
    "\n",
    "* pensez à nettoyer les outputs inutiles (installation, messages de débuggage, ...)\n",
    "* soignez vos figures : les axes sont-ils faciles à comprendre ? L'échelle est adaptée ? \n",
    "* commentez vos résultats : vous attendiez-vous à les avoir ? Est-ce étonnant ? Faites le lien avec la théorie.\n",
    "\n",
    "Ce TP reprend l'exemple d'un médecin et de ses vaccins. Vous allez comparer plusieurs stratégies et trouver celle optimale.\n",
    "Un TP se fait seul ou en binôme. Aucun groupe de plus de 2 personnes. \n",
    "\n",
    "Vous allez rendre le TP depuis un lien GitHub avec ce notebook mais une version du rapport exportée en PDF & HTML. "
   ]
  },
  {
   "cell_type": "code",
   "execution_count": null,
   "metadata": {},
   "outputs": [],
   "source": [
    "# ! pip install matplotlib tqdm numpy ipympl opencv-python\n",
    "# !jupyter labextension install @jupyter-widgets/jupyterlab-manager\n",
    "# !jupyter labextension install jupyter-matplotlib"
   ]
  },
  {
   "cell_type": "code",
   "execution_count": 1,
   "metadata": {},
   "outputs": [],
   "source": [
    "%load_ext autoreload\n",
    "%autoreload 2\n",
    "%matplotlib inline \n",
    "\n",
    "import typing as t\n",
    "import math\n",
    "import torch\n",
    "import numpy as np\n",
    "from tqdm.auto import trange, tqdm\n",
    "import matplotlib.pyplot as plt\n",
    "from matplotlib.animation import FuncAnimation\n",
    "import matplotlib.animation as animation\n",
    "from matplotlib.backends.backend_agg import FigureCanvasAgg as FigureCanvas\n",
    "import cv2\n",
    "from IPython.display import display, clear_output\n",
    "\n",
    "torch.random.manual_seed(0)\n",
    "\n",
    "K = 5 # num arms"
   ]
  },
  {
   "cell_type": "markdown",
   "metadata": {},
   "source": [
    "# Présentation du problème"
   ]
  },
  {
   "cell_type": "code",
   "execution_count": 2,
   "metadata": {},
   "outputs": [],
   "source": [
    "class ArmBernoulli:\n",
    "    def __init__(self, p: float):\n",
    "        \"\"\"\n",
    "        Vaccine treatment following a Bernoulli law (mean is p and variance is p(1-p)\n",
    "        Args:\n",
    "             p (float): mean parameter\n",
    "             \n",
    "        >>> torch.random.manual_seed(random_state)        \n",
    "        >>> arm = ArmBernoulli(0.5)\n",
    "        >>> arm.sample(5)\n",
    "        tensor([ True, False,  True,  True,  True])\n",
    "        \"\"\"\n",
    "        self.immunity_rate = p\n",
    "\n",
    "    def sample(self, n: int = 1):\n",
    "        return torch.rand(n) < self.immunity_rate\n",
    "    \n",
    "    def __repr__(self):\n",
    "        return f'<ArmBernoulli p={self.immunity_rate}' \n",
    "\n",
    "def generate_arms(num_arms: int):\n",
    "    means = torch.rand(K)\n",
    "    MAB = [ArmBernoulli(m) for m in means]\n",
    "    assert MAB[0].immunity_rate == means[0]\n",
    "    assert (MAB[0].sample(10) <= 1).all() and (MAB[0].sample(10) >= 0).all() \n",
    "    return MAB\n",
    "\n",
    "MAB = generate_arms(K)"
   ]
  },
  {
   "cell_type": "markdown",
   "metadata": {},
   "source": [
    "Ce TP reprend l'exemple du médecin présenté en cours.\n",
    "\n",
    "\n",
    "**Q1. Créez une fonction pour trouver $\\mu^*$ à partir d'un `MAB`. Comment est définie la récompense $R_k$ ? Que représente concrètement le regret dans le contexte de ce TP ?**"
   ]
  },
  {
   "cell_type": "code",
   "execution_count": 3,
   "metadata": {},
   "outputs": [
    {
     "data": {
      "text/plain": [
       "tensor(0.7682)"
      ]
     },
     "execution_count": 3,
     "metadata": {},
     "output_type": "execute_result"
    }
   ],
   "source": [
    "torch.random.manual_seed(0)\n",
    "mab = generate_arms(5)\n",
    "def get_mu_star(mab: list[ArmBernoulli] ):\n",
    "    mu_star = max([m.immunity_rate for m in mab])\n",
    "    return mu_star\n",
    "get_mu_star(mab)"
   ]
  },
  {
   "cell_type": "markdown",
   "metadata": {},
   "source": [
    "$\\mu^*$ vaut à 0.7682 et correspond au meilleur vaccin\n",
    "\n",
    "La récompense $R_k$ correspond à l'immunity rate\n",
    "\n",
    "Le regret correspond à la difference entre l'immunity rate du meilleur vaccin et le vaccin k"
   ]
  },
  {
   "cell_type": "markdown",
   "metadata": {},
   "source": [
    "**Note importante :** pour la suite, les résultats seront généralement réalisés avec 100 initialisations différentes du MAB (tous les MAB ont 5 vaccins mais des taux d'immunistation différent) pour réduire le bruit de simulation. Concrètement, on exécutera au moins 100x `generate_arms`.\n",
    "\n",
    "# I. Cas classique des bandits manchots "
   ]
  },
  {
   "cell_type": "markdown",
   "metadata": {
    "tags": []
   },
   "source": [
    "## I.a. Solution Gloutonne"
   ]
  },
  {
   "cell_type": "markdown",
   "metadata": {},
   "source": [
    "Le médecin fonctionne sur deux phases :\n",
    "\n",
    "1. **Exploration :** Le médecin calcule le taux d'immunisation empirique sur les N premiers patients en administrant le même nombre de fois chaque vaccin :\n",
    "\n",
    "$$\\hat{\\mu_i}[0\\rightarrow N] = \\frac{1}{T_i} \\sum_{k=0}^{N-1} \\chi_{v_k,i}R_k,$$\n",
    "\n",
    "avec $T_i = \\sum_{k=0}^{N-1} \\chi_{v_k,i}$.\n",
    "\n",
    "\n",
    "2. **Exploitation :** Le vaccin $v_i = \\arg\\max_j \\hat{\\mu_j}[0\\rightarrow N]$ est utilisé pour les M patients suivants.\n",
    "\n",
    "**Q2. Implémentez cette solution avec N = 50 et M = 500 et testez-la avec 100 MAB. On souhaite savoir si vous trouvez les bons vaccins optimals. Quelle est l'espérance empirique de cette variable ? Et son écart-type ? Calculez de même l'espérance et l'écart-type du regret sur vos 100 simulations.**\n",
    "\n",
    "Pour rappel, le regret est défini par :\n",
    "\n",
    "$$r_n = n\\mu^* - \\sum_{k=0}^{n-1} R_k$$\n",
    "\n",
    "**Attention :** $n$ est le nombre total de patients, donc ici $N + M$."
   ]
  },
  {
   "cell_type": "code",
   "execution_count": 58,
   "metadata": {},
   "outputs": [],
   "source": [
    "torch.random.manual_seed(0)\n",
    "nb_mab = 100\n",
    "nb_vaccin = 5\n",
    "mabs = [generate_arms(nb_vaccin) for _ in range(nb_mab)]\n",
    "N = 50\n",
    "M = 500"
   ]
  },
  {
   "cell_type": "code",
   "execution_count": 5,
   "metadata": {},
   "outputs": [],
   "source": [
    "def exploration(N, mab, empirical_rates, trials, indicator, rewards):\n",
    "    nb_vaccin = len(mab)\n",
    "    actual_rewards = torch.zeros(N)\n",
    "    vaccine_to_choose = torch.randint(0, nb_vaccin, (N,))\n",
    "    for i in range(N):\n",
    "        v = vaccine_to_choose[i]\n",
    "        actual_rewards[i] = mab[v].sample()\n",
    "    rewards = torch.cat([rewards, actual_rewards])\n",
    "    indicator = torch.cat([indicator, torch.eye(\n",
    "        nb_vaccin)[vaccine_to_choose].T], dim=1)\n",
    "    trials = trials + torch.bincount(vaccine_to_choose, minlength=nb_vaccin)\n",
    "    empirical_rates = (indicator @ rewards)/trials\n",
    "    empirical_rates = empirical_rates.nan_to_num()\n",
    "    return empirical_rates, trials, indicator, rewards\n",
    "\n",
    "\n",
    "def exploitation(M, mab, empirical_rate, trials, indicator, rewards):\n",
    "    nb_vaccin = len(mab)\n",
    "    best_vaccine_index = torch.argmax(empirical_rate)\n",
    "    vaccine_to_choose = torch.ones(M, dtype=torch.int64) * best_vaccine_index\n",
    "    exploit_rewards = mab[best_vaccine_index].sample(M)\n",
    "    rewards = torch.cat([rewards, exploit_rewards])\n",
    "    indicator = torch.cat([indicator, torch.eye(nb_vaccin)[vaccine_to_choose].T], dim=1)\n",
    "    trials = trials + torch.bincount(vaccine_to_choose, minlength=nb_vaccin)\n",
    "    empirical_rate = (indicator @ rewards)/trials\n",
    "    return empirical_rate, trials, indicator, rewards\n",
    "\n",
    "\n",
    "def compute_regret(mab, rewards):\n",
    "    nb_trials = len(rewards)\n",
    "    mu_star = get_mu_star(mab)\n",
    "    return nb_trials * mu_star - torch.sum(rewards)\n",
    "\n",
    "\n",
    "def run_simulation(N, M, mab, exploitation):\n",
    "    # exploration\n",
    "    trials = torch.zeros(len(mab))\n",
    "    indicator = torch.zeros((len(mab), 0))\n",
    "    rewards = torch.zeros(0)\n",
    "    empirical_rates_exploration, trials, indicator, rewards = exploration(\n",
    "                                                                          N=N,\n",
    "                                                                          mab=mab,\n",
    "                                                                          empirical_rates=None,\n",
    "                                                                          trials=trials,\n",
    "                                                                          indicator=indicator,\n",
    "                                                                          rewards=rewards)\n",
    "    # exploitation\n",
    "    exploitaion_res = exploitation(\n",
    "        M, mab, empirical_rates_exploration, trials, indicator, rewards)\n",
    "    empirical_rates, trials, indicator, rewards = (exploitaion_res[i] for i in range(4))\n",
    "    \n",
    "    # regret\n",
    "    regret = compute_regret(mab, rewards)\n",
    "\n",
    "    # check if the best vaccine was found\n",
    "    best_exploration_vaccine_index = torch.argmax(\n",
    "        empirical_rates_exploration).item()\n",
    "    best_exploitation_vaccine_index = torch.argmax(empirical_rates).item()\n",
    "    true_best_vaccine_index = torch.argmax(\n",
    "        torch.tensor([arm.immunity_rate for arm in mab])).item()\n",
    "    found_best_exploration = best_exploration_vaccine_index == true_best_vaccine_index\n",
    "    found_best_exploitation = best_exploitation_vaccine_index == true_best_vaccine_index\n",
    "\n",
    "    return found_best_exploration, found_best_exploitation, regret.item()"
   ]
  },
  {
   "cell_type": "code",
   "execution_count": 6,
   "metadata": {},
   "outputs": [],
   "source": [
    "def analyze_results(results):\n",
    "    found_best_vaccines = torch.tensor([res[0:2] for res in results], dtype=torch.float)\n",
    "    regrets = torch.tensor([res[2] for res in results], dtype=torch.float)\n",
    "    # print(found_best_vaccines)\n",
    "    mean_found_best = found_best_vaccines.mean(dim=0)\n",
    "    std_found_best = found_best_vaccines.std(dim=0)\n",
    "\n",
    "    mean_regret = regrets.mean().item()\n",
    "    std_regret = regrets.std().item()\n",
    "\n",
    "    print(f\"Espérance empirique de trouver le meilleur vaccin pendant la phase d'exploration: {mean_found_best[0]:.2f}\")\n",
    "    print(f\"Espérance empirique de trouver le meilleur vaccin pendant la phase d'exploitation: {mean_found_best[1]:.2f}\")\n",
    "    print(f\"Écart-type trouver le meilleur vaccin pendant la phase d'exploration: {std_found_best[0]:.2f}\")\n",
    "    print(f\"Écart-type trouver le meilleur vaccin pendant la phase d'exploitation: {std_found_best[1]:.2f}\")\n",
    "    print(f\"Espérance du regret: {mean_regret:.2f}\")\n",
    "    print(f\"Écart-type du regret: {std_regret:.2f}\")"
   ]
  },
  {
   "cell_type": "code",
   "execution_count": 7,
   "metadata": {},
   "outputs": [
    {
     "name": "stdout",
     "output_type": "stream",
     "text": [
      "Espérance empirique de trouver le meilleur vaccin pendant la phase d'exploration: 0.70\n",
      "Espérance empirique de trouver le meilleur vaccin pendant la phase d'exploitation: 0.77\n",
      "Écart-type trouver le meilleur vaccin pendant la phase d'exploration: 0.46\n",
      "Écart-type trouver le meilleur vaccin pendant la phase d'exploitation: 0.42\n",
      "Espérance du regret: 29.36\n",
      "Écart-type du regret: 30.80\n"
     ]
    }
   ],
   "source": [
    "torch.random.manual_seed(0)\n",
    "results = [run_simulation(50, M, mab, exploitation) for mab in mabs]\n",
    "analyze_results(results)"
   ]
  },
  {
   "cell_type": "markdown",
   "metadata": {},
   "source": [
    "**Q3. On propose d'améliorer l'algorithme précédant en mettant à jour les taux d'immunisation empiriques $\\bar{R}_i$ pendant la d'exploitation. Notez vous une amélioration du regret ? Proposez un exemple dans lequel cette mise à jour ne changera rien.** "
   ]
  },
  {
   "cell_type": "code",
   "execution_count": 8,
   "metadata": {},
   "outputs": [],
   "source": [
    "def greedy_exploitation(M, mab, empirical_rate, trials, indicator, rewards):\n",
    "    nb_vaccin = len(mab)\n",
    "    for _ in range(M):\n",
    "        best_vaccine_index = torch.argmax(empirical_rate)\n",
    "        vaccine_to_choose = torch.ones(1, dtype=torch.int64) * best_vaccine_index\n",
    "        exploit_rewards = mab[best_vaccine_index].sample(1)\n",
    "        rewards = torch.cat([rewards, exploit_rewards])\n",
    "        indicator = torch.cat([indicator, torch.eye(\n",
    "            nb_vaccin)[vaccine_to_choose].T], dim=1)\n",
    "        trials = trials + torch.bincount(vaccine_to_choose, minlength=nb_vaccin)\n",
    "        empirical_rate = (indicator @ rewards)/trials\n",
    "    return empirical_rate, trials, indicator, rewards"
   ]
  },
  {
   "cell_type": "code",
   "execution_count": 9,
   "metadata": {},
   "outputs": [
    {
     "name": "stdout",
     "output_type": "stream",
     "text": [
      "Espérance empirique de trouver le meilleur vaccin pendant la phase d'exploration: 0.70\n",
      "Espérance empirique de trouver le meilleur vaccin pendant la phase d'exploitation: 0.85\n",
      "Écart-type trouver le meilleur vaccin pendant la phase d'exploration: 0.46\n",
      "Écart-type trouver le meilleur vaccin pendant la phase d'exploitation: 0.36\n",
      "Espérance du regret: 19.97\n",
      "Écart-type du regret: 12.82\n"
     ]
    }
   ],
   "source": [
    "torch.manual_seed(0)\n",
    "results = [run_simulation(N, M, mab, exploitation=greedy_exploitation) for mab in mabs]\n",
    "analyze_results(results)"
   ]
  },
  {
   "cell_type": "markdown",
   "metadata": {},
   "source": [
    "Il y a une amélioration du regret d'environ -32%.\n"
   ]
  },
  {
   "cell_type": "code",
   "execution_count": 10,
   "metadata": {},
   "outputs": [
    {
     "name": "stdout",
     "output_type": "stream",
     "text": [
      "Result for skewed MAB and  normal exploitation\n",
      "Espérance empirique de trouver le meilleur vaccin pendant la phase d'exploration: 1.00\n",
      "Espérance empirique de trouver le meilleur vaccin pendant la phase d'exploitation: 1.00\n",
      "Écart-type trouver le meilleur vaccin pendant la phase d'exploration: 0.00\n",
      "Écart-type trouver le meilleur vaccin pendant la phase d'exploitation: 0.00\n",
      "Espérance du regret: 34.27\n",
      "Écart-type du regret: 7.01\n",
      "\n",
      "Result for skewed MAB and  greedy exploitation\n",
      "Espérance empirique de trouver le meilleur vaccin pendant la phase d'exploration: 1.00\n",
      "Espérance empirique de trouver le meilleur vaccin pendant la phase d'exploitation: 1.00\n",
      "Écart-type trouver le meilleur vaccin pendant la phase d'exploration: 0.00\n",
      "Écart-type trouver le meilleur vaccin pendant la phase d'exploitation: 0.00\n",
      "Espérance du regret: 33.70\n",
      "Écart-type du regret: 7.40\n"
     ]
    }
   ],
   "source": [
    "torch.random.manual_seed(0)\n",
    "mab_skewed = [[ArmBernoulli(0.05) for _ in mab[:-1]] + [ArmBernoulli(0.9)] for mab in mabs]\n",
    "\n",
    "results = [run_simulation(N, M, mab, exploitation=exploitation) for mab in mab_skewed]\n",
    "print(\"Result for skewed MAB and  normal exploitation\")\n",
    "analyze_results(results)\n",
    "\n",
    "print()\n",
    "\n",
    "print(\"Result for skewed MAB and  greedy exploitation\")\n",
    "results = [run_simulation(N, M, mab, exploitation=greedy_exploitation) for mab in mab_skewed]\n",
    "\n",
    "analyze_results(results)"
   ]
  },
  {
   "cell_type": "markdown",
   "metadata": {},
   "source": [
    "On remarque qu'avec un ensemble de MAB composé de 5 vaccins, dont 4 ayant des probabilités très faibles (<0,1) et un outsider avec une probabilité beaucoup plus élevée (>0,9), cette amélioration ne change rien. Le meilleur vaccin a déjà été identifié dès la première phase, en raison de la grande différence dans les taux d'immunité.\n",
    "\n",
    "On peut remarquer ici une amélioration du regret de seulement -1.6%. Soit une réduction d'amélioration de -95% par rapport à l'ancien set de MAB"
   ]
  },
  {
   "cell_type": "markdown",
   "metadata": {},
   "source": [
    "**Q4. Créez une figure contenant deux sous-figures : à gauche, le taux d'immunisation empirique $\\bar{R}_i$ pour les 5 vaccins ; à droite, le regret $r_n$. La figure sera animée avec les patients : chaque frame $k$ de l'animation représente le vaccin que l'on donne au $k$-ième patient.**"
   ]
  },
  {
   "cell_type": "code",
   "execution_count": 11,
   "metadata": {},
   "outputs": [],
   "source": [
    "torch.random.manual_seed(0)\n",
    "\n",
    "def step_by_step_simulation(mab, N, M, exploitation):\n",
    "    empirical_rates_history = []\n",
    "    trials_history = []\n",
    "    regrets = []\n",
    "    trials = torch.zeros(len(mab))\n",
    "    indicator = torch.zeros((len(mab), 0))\n",
    "    rewards = torch.zeros(0)\n",
    "    # exploration\n",
    "    for _ in range(0, N):\n",
    "        empirical_rates, trials, indicator, rewards = exploration(1, mab, empirical_rates=None, trials=trials, indicator=indicator, rewards=rewards)\n",
    "        empirical_rates_history.append(empirical_rates)\n",
    "        trials_history.append(trials)\n",
    "        regret = compute_regret(mab, rewards)\n",
    "        regrets.append(regret)\n",
    "    # exploitation\n",
    "    for _ in range(M):\n",
    "        empirical_rates, trials, indicator, rewards = exploitation(\n",
    "            1, mab, empirical_rates, trials, indicator, rewards)\n",
    "        empirical_rates_history.append(empirical_rates)\n",
    "        trials_history.append(trials)\n",
    "        regret = compute_regret(mab, rewards)\n",
    "        regrets.append(regret)\n",
    "        # print(rewards)\n",
    "        # print(len(rewards))\n",
    "    \n",
    "    return empirical_rates_history, trials_history, regrets, rewards"
   ]
  },
  {
   "cell_type": "code",
   "execution_count": null,
   "metadata": {},
   "outputs": [],
   "source": [
    "%matplotlib widget\n",
    "torch.random.manual_seed(0)\n",
    "def animate_patients(mab, N, M):\n",
    "    fig, ax = plt.subplots(1, 2, figsize=(10, 5), num=\"Simulation Patient par Patient\")\n",
    "    # change name of the figure from figure 1 to figure 2\n",
    "    ax[0].set_title('Taux d\\'immunisation empirique')\n",
    "    ax[0].set_xlabel('Vaccins')\n",
    "    ax[0].set_ylabel('Taux d\\'immunisation')\n",
    "    ax[0].set_ylim(0, 1)\n",
    "    ax[0].grid(True)\n",
    "\n",
    "    ax[1].set_title('Regret')\n",
    "    ax[1].set_xlabel('Patients')\n",
    "    ax[1].set_ylabel('Regret')\n",
    "    ax[1].grid(True) \n",
    "    \n",
    "    torch.random.manual_seed(0)\n",
    "    empirical_rates_history, _, regrets, _ = step_by_step_simulation(mab, N, M, exploitation)\n",
    "    patients = np.arange(0, len(empirical_rates_history[0]))  \n",
    "    def update(frame):\n",
    "        ax[0].cla()\n",
    "        ax[1].cla()        \n",
    "        # Redraw titles and labels for each frame after clearing\n",
    "        ax[0].set_title(f\"Taux d\\'immunisation empirique - {'Exploitation' if frame > N else 'Exploration'}\")\n",
    "        ax[0].set_xlabel('Vaccins')\n",
    "        ax[0].set_ylabel('Taux d\\'immunisation')\n",
    "        ax[0].set_ylim(0, 1)\n",
    "        ax[0].grid(True)\n",
    "\n",
    "        ax[0].set_title(f\"Regret - {'Exploitation' if frame > N else 'Exploration'}\")\n",
    "        ax[1].set_xlabel('Patients')\n",
    "        ax[1].set_ylabel('Regret')\n",
    "        ax[1].grid(True)\n",
    "        \n",
    "        # print(empirical_rates)\n",
    "        ax[0].set_xticks(np.arange(len(empirical_rates_history[0]))) \n",
    "        ax[0].bar(patients,empirical_rates_history[frame], label='Taux d\\'immunisation empirique')\n",
    "        ax[1].plot(regrets[:frame], label='Regret')\n",
    "    \n",
    "    anim = FuncAnimation(fig, update, frames=np.arange(0, N+M), repeat=False)\n",
    "    return anim\n",
    "\n",
    "ani = animate_patients(mab, N, M)\n",
    "plt.show()"
   ]
  },
  {
   "cell_type": "markdown",
   "metadata": {},
   "source": [
    "**Q5. On étudie maintenant l'influence de la taille du training set $N$. On considère que N+M est une constante, puis on fait varier N entre K et M. Calculez le regret pour ces différentes tailles du training set  différents MAB et representez le regret moyen, le regret min et max (vous devriez trouver une courbe en U ou en V pour le regret moyen). Quelle est la taille optimale du training set ?**"
   ]
  },
  {
   "cell_type": "code",
   "execution_count": 42,
   "metadata": {},
   "outputs": [],
   "source": [
    "torch.random.manual_seed(0)\n",
    "nb_mab = 20\n",
    "nb_vaccin = 5\n",
    "q5_mabs = [generate_arms(nb_vaccin) for _ in range(nb_mab)]\n",
    "N = 50\n",
    "M = 500"
   ]
  },
  {
   "cell_type": "code",
   "execution_count": null,
   "metadata": {},
   "outputs": [],
   "source": [
    "torch.random.manual_seed(0)\n",
    "results = [[run_simulation(k, M+N-k, mab, exploitation) for  mab in q5_mabs ]for k in range(10, 500, 10)]\n",
    "regrets = [[res[2] for res in result] for result in results]\n",
    "regrets_mean = [ np.array([regret for regret in reg]).mean() for reg in regrets]\n",
    "regrets_max = [ np.array([regret for regret in reg]).max() for reg in regrets]\n",
    "regrets_min = [ np.array([regret for regret in reg]).min() for reg in regrets]"
   ]
  },
  {
   "cell_type": "code",
   "execution_count": null,
   "metadata": {},
   "outputs": [],
   "source": [
    "fig, ax = plt.subplots(2,2, figsize=(10, 10))\n",
    "x = np.arange(10,500,10)\n",
    "ax[0][0].set_title('Regret moyen')\n",
    "ax[0][0].set_ylabel('Regret')\n",
    "ax[0][0].set_xlabel('Taille de l\\'entrainement')\n",
    "ax[0][0].plot(x, regrets_mean, label='Regret moyen')\n",
    "ax[0][1].set_ylabel('Regret')\n",
    "ax[0][1].set_xlabel('Taille de l\\'entrainement')\n",
    "ax[0][1].set_title('Regret Max')\n",
    "ax[0][1].plot(x, regrets_max, label='Regret max')\n",
    "ax[1][0].set_ylabel('Regret')\n",
    "ax[1][0].set_xlabel('Taille de l\\'entrainement')\n",
    "ax[1][0].set_title('Regret Min')\n",
    "ax[1][0].plot(x,regrets_min, label='Regret min')\n",
    "optimal_training_size = np.arange(10,500,10)[np.array(regrets_mean).argmin()]\n",
    "print(f\"Taille optimale de l'entrainement: {optimal_training_size}\")"
   ]
  },
  {
   "cell_type": "markdown",
   "metadata": {},
   "source": [
    "La taille optimale de l'entrainement est de 50 patients"
   ]
  },
  {
   "cell_type": "markdown",
   "metadata": {
    "tags": []
   },
   "source": [
    "## I.b. Borne inférieure de Lai & Robbins [Lai et Robbins, 1985]"
   ]
  },
  {
   "cell_type": "markdown",
   "metadata": {},
   "source": [
    "Lai et Robbins [Lai et Robbins, 1985] considère une classe d'algorithmes $\\pi$ pour résoudre ce type de problèmes.\n",
    "\n",
    "Ils ont trouvé une borne inférieure sur les récompenses cumulées en valeur asymptotique :\n",
    "\n",
    "$$\\lim_{n\\rightarrow \\infty} \\inf_{\\pi} \\frac{\\sum_{k=0}^{n-1} R_k}{\\log n} \\geq \\sum_{i~\\text{tel que}~\\mu_i \\lt \\mu^*} \\frac{\\mu^∗−\\mu_i}{\\text{KL}(\\mu_i, \\mu^*)}  :=C(\\mu)$$\n",
    " \n",
    " avec $\\text{KL}(x, y) = x \\log(x/y) + (1 − x) \\log((1 − x)/(1 − y))$ (distance de Kullback-Leibler) et  $\\sum_{k=0}^{n-1} R_k$ la récompense obtenue sur $n$ patients.\n",
    " \n",
    " \n",
    "**Q6. Justifiez pourquoi on peut en déduire que le regret d'un algorithme raisonnable sera au pire logarithmique.**"
   ]
  },
  {
   "cell_type": "markdown",
   "metadata": {},
   "source": [
    "En faisant passé le log(n) de l'autre coté on remarque que le regret doit croitre au moins aussi rapidement qu'une constante fois log(n)"
   ]
  },
  {
   "cell_type": "markdown",
   "metadata": {},
   "source": [
    "**Q7. Tracez le regret issu de la borne de Lai & Robbins et comparez le au regret obtenu avec l'algorithme glouton.**"
   ]
  },
  {
   "cell_type": "code",
   "execution_count": 28,
   "metadata": {},
   "outputs": [],
   "source": [
    "def lai_robbins(mab, N, M):\n",
    "    def KL(x,y):\n",
    "        return x * torch.log(x/y) + (1-x) * torch.log((1-x)/(1-y))\n",
    "    lai_robbins_regrets = []\n",
    "    n = N+M\n",
    "    for i in range(n):\n",
    "        mu_star = get_mu_star(mab)\n",
    "        mus = torch.tensor([arm.immunity_rate for arm in mab if arm.immunity_rate != mu_star])\n",
    "        coef = torch.sum((mu_star - mus)/KL(mus, mu_star))\n",
    "        lai_robbins_regret =  coef * torch.log(torch.tensor(i))\n",
    "        lai_robbins_regrets.append(lai_robbins_regret.item())\n",
    "    return lai_robbins_regrets"
   ]
  },
  {
   "cell_type": "code",
   "execution_count": 35,
   "metadata": {},
   "outputs": [
    {
     "data": {
      "image/png": "[encoded data removed]",
      "text/plain": [
       "<Figure size 1000x1000 with 1 Axes>"
      ]
     },
     "metadata": {},
     "output_type": "display_data"
    }
   ],
   "source": [
    "%matplotlib inline\n",
    "torch.random.manual_seed(3)\n",
    "M_inf = 2000\n",
    "empirical_rates_history, trials_history, regrets, rewards = step_by_step_simulation(mab, N, M_inf, exploitation)\n",
    "lai_robbins_regrets = lai_robbins(mab, N, M_inf)\n",
    "fig, ax = plt.subplots(1, 1, figsize=(10, 10), num=\"Regret\")\n",
    "ax.cla()\n",
    "ax.set_title('Lai Robbins Regret')\n",
    "ax.set_xlabel('Patients')\n",
    "ax.set_ylabel('Regret')\n",
    "ax.grid(True)\n",
    "ax.plot(torch.tensor(regrets), label='Regret')\n",
    "ax.plot(lai_robbins_regrets, label='Borne inférieure de Lai Robbins')\n",
    "ax.legend()\n",
    "plt.show()"
   ]
  },
  {
   "cell_type": "markdown",
   "metadata": {},
   "source": [
    "On observe que, bien que le regret diminue, l'algorithme descend en dessous de la borne de Lai et Robbins. Ainsi, l'algorithme glouton atteint un minimum local (qui est global dans ce cas précis en raison de la simplicité du problème). Cependant, cet algorithme ne généralisera pas à des problèmes plus complexes."
   ]
  },
  {
   "cell_type": "markdown",
   "metadata": {},
   "source": [
    "## I.c. Upper Confidence Bounds"
   ]
  },
  {
   "cell_type": "markdown",
   "metadata": {},
   "source": [
    "Cet algorithme améliore la version précédente en ajoutant un biais lié à la fréquentation de chaque vaccin :\n",
    "\n",
    "$$\\hat{R}_i = \\bar{R}_i + \\sqrt{\\frac{C \\log{n}}{T_i}},$$\n",
    "\n",
    "avec $C = 2$.\n",
    "\n",
    "**Q8. Implémentez la modification de cette algorithme. Conservez les deux phases exploration/exploitation décrites ci-dessus. En prenant les valeurs de $N$ et $M$ trouvées à la question Q5, quel regret obtenez-vous ? Faites l'expérience avec au moins 10 MAB différents (tous ayant 5 vaccins) afin de calculer la moyenne et l'écart-type du regret.**"
   ]
  },
  {
   "cell_type": "code",
   "execution_count": 15,
   "metadata": {},
   "outputs": [],
   "source": [
    "def ucb_exploitation(M, mab, empirical_rate, trials, indicator, rewards, C=2):\n",
    "    nb_vaccin = len(mab)\n",
    "    for _ in range(M):\n",
    "        ucb_empirical_rate = empirical_rate + torch.sqrt((C * np.log(len(rewards))) / trials)\n",
    "        best_vaccine_index = torch.argmax(ucb_empirical_rate)\n",
    "        vaccine_to_choose = torch.ones(1, dtype=torch.int64) * best_vaccine_index\n",
    "        exploit_rewards = mab[best_vaccine_index].sample(1)\n",
    "        rewards = torch.cat([rewards, exploit_rewards])\n",
    "        indicator = torch.cat([indicator, torch.eye(\n",
    "            nb_vaccin)[vaccine_to_choose].T], dim=1)\n",
    "        trials = trials + torch.bincount(vaccine_to_choose, minlength=nb_vaccin)\n",
    "        empirical_rate = (indicator @ rewards)/trials\n",
    "    ucb_empirical_rate = empirical_rate + torch.sqrt((C * np.log(len(rewards))) / trials)\n",
    "    return empirical_rate, trials, indicator, rewards, ucb_empirical_rate"
   ]
  },
  {
   "cell_type": "code",
   "execution_count": 16,
   "metadata": {},
   "outputs": [
    {
     "name": "stdout",
     "output_type": "stream",
     "text": [
      "Espérance empirique de trouver le meilleur vaccin pendant la phase d'exploration: 0.70\n",
      "Espérance empirique de trouver le meilleur vaccin pendant la phase d'exploitation: 0.92\n",
      "Écart-type trouver le meilleur vaccin pendant la phase d'exploration: 0.46\n",
      "Écart-type trouver le meilleur vaccin pendant la phase d'exploitation: 0.27\n",
      "Espérance du regret: 47.93\n",
      "Écart-type du regret: 11.34\n"
     ]
    }
   ],
   "source": [
    "torch.random.manual_seed(0)\n",
    "results = [run_simulation(N, M, mab, exploitation=ucb_exploitation) for mab in mabs]\n",
    "analyze_results(results)"
   ]
  },
  {
   "cell_type": "markdown",
   "metadata": {},
   "source": [
    "On constate une augmentation de 42,22 % du regret par rapport à l'algorithme glouton (33,7 -> 47,93), ce qui était prévisible, car l'algorithme se situait initialement en dessous de la borne de Lai et Robbins.\n",
    "\n",
    "L'espérance de trouver le meilleur vaccin durant la phase d'exploitation a progressé de 8,24 % (0,85 -> 0,92), ce qui était également attendu. En effet, cette phase permet de tester davantage les vaccins moins souvent sélectionnés, qui ont pu être défavorisés par un manque de chance au départ.\n",
    "\n",
    "L'écart-type du regret est également plus faible que celui de l'algorithme glouton, avec une réduction de 5,5 % (12,0 -> 11,34). Un écart-type plus bas indique un regret plus stable."
   ]
  },
  {
   "cell_type": "markdown",
   "metadata": {},
   "source": [
    "**Q9. Reprenez la questions Q4 avec cette algorithme. Dans la figure de gauche, vous representerez $\\bar{R}_i$ et $\\hat{R}_i$.**"
   ]
  },
  {
   "cell_type": "code",
   "execution_count": 23,
   "metadata": {},
   "outputs": [],
   "source": [
    "torch.random.manual_seed(0)\n",
    "\n",
    "def step_by_step_simulation_exploration(mab,N):\n",
    "    empirical_rates_history = []\n",
    "    trials_history = []\n",
    "    regrets = []\n",
    "    trials = torch.zeros(len(mab))\n",
    "    indicator = torch.zeros((len(mab), 0))\n",
    "    rewards = torch.zeros(0)\n",
    "    # exploration\n",
    "    for _ in range(0, N):\n",
    "        empirical_rates, trials, indicator, rewards = exploration(1, mab, empirical_rates=None, trials=trials, indicator=indicator, rewards=rewards)\n",
    "        empirical_rates_history.append(empirical_rates)\n",
    "        trials_history.append(trials)\n",
    "        regret = compute_regret(mab, rewards)\n",
    "        regrets.append(regret)\n",
    "    return empirical_rates_history, trials_history, regrets, empirical_rates, trials, indicator, rewards\n",
    "    \n",
    "def step_by_step_simulation_exploitation_ucb(mab, M, exploitation, empirical_rates, trials, indicator, rewards, empirical_rates_history, trials_history, regrets):\n",
    "    empirical_rates_ucb_history = empirical_rates_history.copy()\n",
    "    for _ in range(M):\n",
    "        empirical_rates, trials, indicator, rewards, empirical_rates_ucb = exploitation(\n",
    "            1, mab, empirical_rates, trials, indicator, rewards)\n",
    "        empirical_rates_history.append(empirical_rates)\n",
    "        empirical_rates_ucb_history.append(empirical_rates_ucb)\n",
    "        trials_history.append(trials)\n",
    "        regret = compute_regret(mab, rewards)\n",
    "        regrets.append(regret)\n",
    "    \n",
    "    return empirical_rates_history, trials_history, regrets, rewards, empirical_rates_ucb_history"
   ]
  },
  {
   "cell_type": "code",
   "execution_count": null,
   "metadata": {},
   "outputs": [],
   "source": [
    "%matplotlib widget\n",
    "torch.random.manual_seed(0)\n",
    "def animate_patients_compare(mab, N, M):\n",
    "    fig, ax = plt.subplots(2, 2, figsize=(10, 10), num=\"Simulation Patient par Patient Comparaison Glouton UCB\")\n",
    "    # change name of the figure from figure 1 to figure 2\n",
    "    ax[0][0].set_title('Taux d\\'immunisation empirique')\n",
    "    ax[0][0].set_xlabel('Vaccins')\n",
    "    ax[0][0].set_ylabel('Taux d\\'immunisation')\n",
    "    ax[0][0].set_ylim(0, 1)\n",
    "    ax[0][0].grid(True)\n",
    "\n",
    "    ax[0][1].set_title('Taux d\\'immunisation empirique UCB')\n",
    "    ax[0][1].set_xlabel('Vaccins')\n",
    "    ax[0][1].set_ylabel('Taux d\\'immunisation')\n",
    "    ax[0][1].set_ylim(0, 1)\n",
    "    ax[0][1].grid(True)\n",
    "\n",
    "    ax[1][0].set_title('Regret')\n",
    "    ax[1][0].set_xlabel('Patients')\n",
    "    ax[1][0].set_ylabel('Regret')\n",
    "    ax[1][0].grid(True) \n",
    "    \n",
    "    torch.random.manual_seed(0)\n",
    "    empirical_rates_history, trials_history, regrets, empirical_rates, trials, indicator, rewards = step_by_step_simulation_exploration(mab, N)\n",
    "    empirical_rates_history, trials_history, regrets, rewards, empirical_rates_history_ucb= step_by_step_simulation_exploitation_ucb(mab,M, ucb_exploitation, empirical_rates,trials, indicator,rewards,empirical_rates_history, trials_history, regrets)\n",
    "    patients = np.arange(0, len(empirical_rates_history[0]))  \n",
    "    def update(frame):\n",
    "        ax[0][0].cla()\n",
    "        ax[0][1].cla()\n",
    "        ax[1][0].cla()        \n",
    "        # Redraw titles and labels for each frame after clearing\n",
    "        ax[0][0].set_title(f\"Taux d\\'immunisation empirique - {['Exploration', 'Exploitation'][frame > N]}\")\n",
    "        ax[0][0].set_xlabel('Vaccins')\n",
    "        ax[0][0].set_ylabel('Taux d\\'immunisation')\n",
    "        ax[0][0].set_ylim(0, 1)\n",
    "        ax[0][0].grid(True)\n",
    "\n",
    "        ax[0][1].set_title(f\"Taux d\\'immunisation empirique UCB - {['Exploration', 'Exploitation'][frame > N]}\")\n",
    "        ax[0][1].set_xlabel('Vaccins')\n",
    "        ax[0][1].set_ylabel('Taux d\\'immunisation')\n",
    "        ax[0][1].grid(True)\n",
    "\n",
    "        ax[1][0].set_title(f'Regret - {[\"Exploration\", \"Exploitation\"][frame > N]}')\n",
    "        ax[1][0].set_xlabel('Patients')\n",
    "        ax[1][0].set_ylabel('Regret')\n",
    "        ax[1][0].grid(True)\n",
    "        \n",
    "        # print(empirical_rates)\n",
    "        ax[0][0].set_xticks(np.arange(len(empirical_rates_history[0]))) \n",
    "        ax[0][0].bar(patients,empirical_rates_history[frame], label='Taux d\\'immunisation empirique')\n",
    "        ax[0][1].set_xticks(np.arange(len(empirical_rates_history[0]))) \n",
    "        ax[0][1].bar(patients,empirical_rates_history_ucb[frame], label='Taux d\\'immunisation empirique')\n",
    "        ax[1][0].plot(regrets[:frame], label='Regret')\n",
    "    \n",
    "    anim = FuncAnimation(fig, update, frames=np.arange(N, N+M), repeat=False)\n",
    "    return anim\n",
    "\n",
    "ani = animate_patients_compare(mab, N, M)\n",
    "plt.show()"
   ]
  },
  {
   "cell_type": "markdown",
   "metadata": {},
   "source": [
    "**Q10. Reprenez la question Q5 avec cette algorithme. Concluez sur l'utilité (ou l'inutilité) de la phase d'exploration. Comparez les performances d'UCB avec celles de l'algorithme glouton.**"
   ]
  },
  {
   "cell_type": "code",
   "execution_count": 25,
   "metadata": {},
   "outputs": [],
   "source": [
    "torch.random.manual_seed(0)\n",
    "results = [[run_simulation(k, M+N-k, mab, ucb_exploitation) for  mab in q5_mabs ]for k in range(10, 500, 10)]\n",
    "regrets = [[res[2] for res in result] for result in results]\n",
    "regrets_mean = [ np.array([regret for regret in reg]).mean() for reg in regrets]\n",
    "regrets_max = [ np.array([regret for regret in reg]).max() for reg in regrets]\n",
    "regrets_min = [ np.array([regret for regret in reg]).min() for reg in regrets]"
   ]
  },
  {
   "cell_type": "code",
   "execution_count": null,
   "metadata": {},
   "outputs": [],
   "source": [
    "fig, ax = plt.subplots(2,2, figsize=(10, 10))\n",
    "x = np.arange(10,500,10)\n",
    "ax[0][0].set_title('Regret moyen')\n",
    "ax[0][0].set_ylabel('Regret')\n",
    "ax[0][0].set_xlabel('Taille de l\\'entrainement')\n",
    "ax[0][0].plot(x, regrets_mean, label='Regret moyen')\n",
    "ax[0][1].set_ylabel('Regret')\n",
    "ax[0][1].set_xlabel('Taille de l\\'entrainement')\n",
    "ax[0][1].set_title('Regret Max')\n",
    "ax[0][1].plot(x, regrets_max, label='Regret max')\n",
    "ax[1][0].set_ylabel('Regret')\n",
    "ax[1][0].set_xlabel('Taille de l\\'entrainement')\n",
    "ax[1][0].set_title('Regret Min')\n",
    "ax[1][0].plot(x,regrets_min, label='Regret min')\n",
    "optimal_training_size = np.arange(10,500,10)[np.array(regrets_mean).argmin()]\n",
    "print(f\"Taille optimale de l'entrainement: {optimal_training_size}\")"
   ]
  },
  {
   "cell_type": "markdown",
   "metadata": {},
   "source": [
    "La taille optimale de l'entraînement étant de 10 patients, on peut en déduire que la phase d'entraînement est superflue dans ce contexte."
   ]
  },
  {
   "cell_type": "markdown",
   "metadata": {},
   "source": [
    "**Q11. Testez différentes valeurs pour $C$ et trouvez sa valeur optimale expérimentalement.**"
   ]
  },
  {
   "cell_type": "code",
   "execution_count": null,
   "metadata": {},
   "outputs": [],
   "source": [
    "torch.random.manual_seed(0)\n",
    "from functools import partial\n",
    "results = []\n",
    "Cs = np.logspace(0.01, 4, 10)\n",
    "for C in Cs:\n",
    "    ucb_exploitation_partial = partial(ucb_exploitation, C=C)\n",
    "    results.append([run_simulation(N, M, mab, ucb_exploitation_partial ) for mab in mabs])\n",
    "regrets = [[res[2] for res in result] for result in results]\n",
    "regrets_mean = [ np.array([regret for regret in reg]).mean() for reg in regrets]\n",
    "regrets_max = [ np.array([regret for regret in reg]).max() for reg in regrets]\n",
    "regrets_min = [ np.array([regret for regret in reg]).min() for reg in regrets]"
   ]
  },
  {
   "cell_type": "code",
   "execution_count": null,
   "metadata": {},
   "outputs": [],
   "source": [
    "fig, ax = plt.subplots(2,2, figsize=(10, 10))\n",
    "ax[0][0].set_title('Regret moyen')\n",
    "ax[0][0].set_ylabel('Regret')\n",
    "ax[0][0].set_xlabel('C')\n",
    "ax[0][0].plot(Cs, regrets_mean, label='Regret moyen')\n",
    "ax[0][1].set_ylabel('Regret')\n",
    "ax[0][1].set_xlabel('C')\n",
    "ax[0][1].set_title('Regret Max')\n",
    "ax[0][1].plot(Cs, regrets_max, label='Regret max')\n",
    "ax[1][0].set_ylabel('Regret')\n",
    "ax[1][0].set_xlabel('C')\n",
    "ax[1][0].set_title('Regret Min')\n",
    "ax[1][0].plot(Cs,regrets_min, label='Regret min')\n",
    "optimal_training_size = Cs[np.array(regrets_mean).argmin()]\n",
    "print(f\"Taille optimale de C: {optimal_training_size}\")"
   ]
  },
  {
   "cell_type": "markdown",
   "metadata": {},
   "source": [
    "Le C optimale expérimentalement est 1.02"
   ]
  },
  {
   "cell_type": "markdown",
   "metadata": {},
   "source": [
    "# Echantillonnage de Thomson\n",
    "\n",
    "Cet algorithme propose de modéliser la variable aléatoire de chaque vaccin avec une loi $\\beta$ dont les paramètres $a$ et $b$ correspondent au nombre de patients que le vaccin a immunisés (resp. non immunisés).\n",
    "\n",
    "Pour chaque patient, on tire un valeur aléatoire pour la loi $\\beta$ décrivant chaque vaccin, puis on choisit le vaccin avec la plus grande valeur tirée. "
   ]
  },
  {
   "cell_type": "markdown",
   "metadata": {},
   "source": [
    "**Q12. Implémentez cet algorithme. Conservez les deux phases exploration/exploitation décrites ci-dessus. En prenant les valeurs de $N$ et $M$ trouvées à la question Q5, quel regret obtenez-vous ? Faites l'expérience avec au moins 10 MAB différents (tous ayant 5 vaccins) afin de calculer la moyenne et l'écart-type du regret.**"
   ]
  },
  {
   "cell_type": "code",
   "execution_count": 32,
   "metadata": {},
   "outputs": [],
   "source": [
    "def thompson_exploitation(M, mab, empirical_rate, trials, indicator, rewards):\n",
    "    nb_vaccin = len(mab)\n",
    "    for _ in range(M):\n",
    "        vaccine_successes = indicator @ rewards\n",
    "        vaccine_failures = trials - vaccine_successes\n",
    "        vaccine_betas = torch.distributions.beta.Beta(vaccine_successes + 1, vaccine_failures + 1)\n",
    "        betas_samples = vaccine_betas.sample()\n",
    "        best_vaccine_index = torch.argmax(betas_samples)\n",
    "        vaccine_to_choose = torch.ones(1, dtype=torch.int64) * best_vaccine_index\n",
    "        exploit_rewards = mab[best_vaccine_index].sample(1)\n",
    "        rewards = torch.cat([rewards, exploit_rewards])\n",
    "        indicator = torch.cat([indicator, torch.eye(\n",
    "            nb_vaccin)[vaccine_to_choose].T], dim=1)\n",
    "        trials = trials + torch.bincount(vaccine_to_choose, minlength=nb_vaccin)\n",
    "        empirical_rate = (indicator @ rewards)/trials\n",
    "    return empirical_rate, trials, indicator, rewards, torch.vstack([vaccine_successes, vaccine_failures]).T"
   ]
  },
  {
   "cell_type": "code",
   "execution_count": 59,
   "metadata": {},
   "outputs": [
    {
     "name": "stdout",
     "output_type": "stream",
     "text": [
      "Espérance empirique de trouver le meilleur vaccin pendant la phase d'exploration: 0.74\n",
      "Espérance empirique de trouver le meilleur vaccin pendant la phase d'exploitation: 0.90\n",
      "Écart-type trouver le meilleur vaccin pendant la phase d'exploration: 0.44\n",
      "Écart-type trouver le meilleur vaccin pendant la phase d'exploitation: 0.30\n",
      "Espérance du regret: 22.22\n",
      "Écart-type du regret: 8.21\n"
     ]
    }
   ],
   "source": [
    "torch.random.manual_seed(0)\n",
    "results = [run_simulation(N, M, mab, exploitation=thompson_exploitation) for mab in mabs]\n",
    "analyze_results(results)"
   ]
  },
  {
   "cell_type": "markdown",
   "metadata": {},
   "source": [
    "En raison de l'échantillonnage de la fonction bêta, les phases d'exploration diffèrent des tests précédents. Cependant, les résultats demeurent comparables.\n",
    "\n",
    "On observe que l'espérance et l'écart-type du regret sont plus faibles que dans tous les autres tests. \n",
    "\n",
    "L'écart-type suggère un regret plus stable, mais une espérance de regret très basse n'est pas nécessairement un bon signe, car cela pourrait indiquer que cet algorithme ne se généralise pas bien.\n",
    "\n",
    "Enfin, l'espérance empirique de trouver le meilleur vaccin pendant la phase d'exploitation reste légèrement inférieure à celle de l'algorithme UCB."
   ]
  },
  {
   "cell_type": "markdown",
   "metadata": {},
   "source": [
    "**Q13. Reprenez la question Q4, mais cette fois-ci, vous representerez le taux d'immunisation empirique avec un [graphique en violon](https://en.wikipedia.org/wiki/Violin_plot) qui représente la loi beta associée à chaque vaccin.**"
   ]
  },
  {
   "cell_type": "code",
   "execution_count": 36,
   "metadata": {},
   "outputs": [],
   "source": [
    "torch.random.manual_seed(0)\n",
    "\n",
    "def step_by_step_simulation_thompson(mab, N, M):\n",
    "    empirical_rates_history = []\n",
    "    trials_history = []\n",
    "    regrets = []\n",
    "    trials = torch.zeros(len(mab))\n",
    "    indicator = torch.zeros((len(mab), 0))\n",
    "    rewards = torch.zeros(0)\n",
    "    betas_history = []\n",
    "    # exploration\n",
    "    for _ in range(0, N):\n",
    "        empirical_rates, trials, indicator, rewards = exploration(1, mab, empirical_rates=None, trials=trials, indicator=indicator, rewards=rewards)\n",
    "        empirical_rates_history.append(empirical_rates)\n",
    "        trials_history.append(trials)\n",
    "        regret = compute_regret(mab, rewards)\n",
    "        regrets.append(regret)\n",
    "    # exploitation\n",
    "    for _ in range(M):\n",
    "        empirical_rates, trials, indicator, rewards, betas = thompson_exploitation(\n",
    "            1, mab, empirical_rates, trials, indicator, rewards)\n",
    "        empirical_rates_history.append(empirical_rates)\n",
    "        trials_history.append(trials)\n",
    "        regret = compute_regret(mab, rewards)\n",
    "        regrets.append(regret)\n",
    "        betas_history.append(betas)\n",
    "        # print(rewards)\n",
    "        # print(len(rewards))\n",
    "    \n",
    "    return empirical_rates_history, trials_history, regrets, rewards, betas_history"
   ]
  },
  {
   "cell_type": "code",
   "execution_count": null,
   "metadata": {},
   "outputs": [],
   "source": [
    "%matplotlib widget\n",
    "torch.random.manual_seed(0)\n",
    "def animate_patients(mab, N, M):\n",
    "    fig, ax = plt.subplots(1, 2, figsize=(10, 5), num=\"Simulation Patient par Patient\")\n",
    "    # change name of the figure from figure 1 to figure 2\n",
    "    ax[0].set_title('Taux d\\'immunisation empirique')\n",
    "    ax[0].set_xlabel('Vaccins')\n",
    "    ax[0].set_ylabel('Taux d\\'immunisation')\n",
    "    ax[0].set_ylim(0, 1)\n",
    "    ax[0].grid(True)\n",
    "\n",
    "    ax[1].set_title('Regret')\n",
    "    ax[1].set_xlabel('Patients')\n",
    "    ax[1].set_ylabel('Regret')\n",
    "    ax[1].grid(True) \n",
    "    \n",
    "    torch.random.manual_seed(0)\n",
    "    empirical_rates_history, trials_history, regrets, rewards, betas_history = step_by_step_simulation_thompson(mab, N, M)\n",
    "    patients = np.arange(0, len(empirical_rates_history[0]))  \n",
    "    datas = [[torch.distributions.Beta(beta[0]+1, beta[1]+1).sample((1000,)) for beta in betas] for betas in betas_history]\n",
    "    def update(frame):\n",
    "        ax[0].cla()\n",
    "        ax[1].cla()        \n",
    "        # Redraw titles and labels for each frame after clearing\n",
    "        ax[0].set_title(f\"Taux d\\'immunisation empirique - {['Exploration', 'Exploitation'][frame > N]}\")\n",
    "        ax[0].set_xlabel('Vaccins')\n",
    "        ax[0].set_ylabel('Taux d\\'immunisation')\n",
    "        ax[0].set_ylim(0, 1)\n",
    "        ax[0].grid(True)\n",
    "\n",
    "        ax[1].set_title(f'Regret - {[\"Exploration\", \"Exploitation\"][frame > N]}')\n",
    "        ax[1].set_xlabel('Patients')\n",
    "        ax[1].set_ylabel('Regret')\n",
    "        ax[1].grid(True)\n",
    "        \n",
    "        # print(empirical_rates)\n",
    "        ax[0].set_xticks(np.arange(len(empirical_rates_history[0]))) \n",
    "        # ax[0].bar(patients,empirical_rates_history[N+frame], label='Taux d\\'immunisation empirique')\n",
    "        ax[0].violinplot([data.numpy() for data in datas[frame]], showmeans=False, showmedians=True)\n",
    "        ax[1].plot(regrets[:N+frame], label='Regret')\n",
    "    \n",
    "    anim = FuncAnimation(fig, update, frames=np.arange(0, M), repeat=False)\n",
    "    return anim\n",
    "\n",
    "ani = animate_patients(mab, N, M)\n",
    "plt.show()"
   ]
  },
  {
   "cell_type": "markdown",
   "metadata": {},
   "source": [
    "On constate que le deuxième vaccin se stabilise autour d'une valeur de 0,76, avec une variance qui diminue progressivement."
   ]
  },
  {
   "cell_type": "markdown",
   "metadata": {},
   "source": [
    "**Q14. Représentez son regret pour différentes tailles du training set (comme dans la Q5). Comparez le regret avec les autres algorithmes.**"
   ]
  },
  {
   "cell_type": "code",
   "execution_count": 45,
   "metadata": {},
   "outputs": [],
   "source": [
    "torch.random.manual_seed(0)\n",
    "results = [[run_simulation(k, M+N-k, mab, thompson_exploitation) for  mab in q5_mabs ]for k in range(10, 500, 20)]\n",
    "regrets = [[res[2] for res in result] for result in results]\n",
    "regrets_mean = [ np.array([regret for regret in reg]).mean() for reg in regrets]\n",
    "regrets_max = [ np.array([regret for regret in reg]).max() for reg in regrets]\n",
    "regrets_min = [ np.array([regret for regret in reg]).min() for reg in regrets]"
   ]
  },
  {
   "cell_type": "code",
   "execution_count": null,
   "metadata": {},
   "outputs": [],
   "source": [
    "fig, ax = plt.subplots(2,2, figsize=(10, 10))\n",
    "x = np.arange(10,500,20)\n",
    "ax[0][0].set_title('Regret moyen')\n",
    "ax[0][0].set_ylabel('Regret')\n",
    "ax[0][0].set_xlabel('Taille de l\\'entrainement')\n",
    "ax[0][0].plot(x, regrets_mean, label='Regret moyen')\n",
    "ax[0][1].set_ylabel('Regret')\n",
    "ax[0][1].set_xlabel('Taille de l\\'entrainement')\n",
    "ax[0][1].set_title('Regret Max')\n",
    "ax[0][1].plot(x, regrets_max, label='Regret max')\n",
    "ax[1][0].set_ylabel('Regret')\n",
    "ax[1][0].set_xlabel('Taille de l\\'entrainement')\n",
    "ax[1][0].set_title('Regret Min')\n",
    "ax[1][0].plot(x,regrets_min, label='Regret min')\n",
    "optimal_training_size = np.arange(10,500,20)[np.array(regrets_mean).argmin()]\n",
    "print(f\"Taille optimale de l'entrainement: {optimal_training_size}\")"
   ]
  },
  {
   "cell_type": "markdown",
   "metadata": {},
   "source": [
    "Le regret augmente avec la taille de l'entraînement, rendant ce dernier inutile. On observe les mêmes conclusions que pour le regret en phase d'exploitation de l'algorithme UCB. Ainsi, ces deux algorithmes sont indépendants de la phase d'entraînement, contrairement à l'algorithme glouton."
   ]
  },
  {
   "cell_type": "markdown",
   "metadata": {},
   "source": [
    "# Conclusion\n",
    "\n",
    "**Q15. Calculez le regret des algorithmes glouton, UCB & Thomson lorsqu'il y a un grand nombre de vaccins disponibles (K=100) (on prendra N=100). Faites le lien avec la [malédiction de la dimension](https://fr.wikipedia.org/wiki/Fl%C3%A9au_de_la_dimension).**"
   ]
  },
  {
   "cell_type": "code",
   "execution_count": 49,
   "metadata": {},
   "outputs": [],
   "source": [
    "torch.random.manual_seed(0)\n",
    "nb_mab = 100\n",
    "nb_vaccin = 100\n",
    "mabs = [generate_arms(nb_vaccin) for _ in range(nb_mab)]\n",
    "N = 100\n",
    "M = 500"
   ]
  },
  {
   "cell_type": "code",
   "execution_count": 51,
   "metadata": {},
   "outputs": [
    {
     "name": "stdout",
     "output_type": "stream",
     "text": [
      "Algorithme Glouton\n",
      "Espérance empirique de trouver le meilleur vaccin pendant la phase d'exploration: 0.82\n",
      "Espérance empirique de trouver le meilleur vaccin pendant la phase d'exploitation: 0.84\n",
      "Écart-type trouver le meilleur vaccin pendant la phase d'exploration: 0.39\n",
      "Écart-type trouver le meilleur vaccin pendant la phase d'exploitation: 0.37\n",
      "Espérance du regret: 42.15\n",
      "Écart-type du regret: 28.51\n"
     ]
    }
   ],
   "source": [
    "torch.random.manual_seed(0)\n",
    "glouton_results = [run_simulation(N, M, mab, exploitation) for mab in mabs]\n",
    "print(\"Algorithme Glouton\")\n",
    "analyze_results(glouton_results)"
   ]
  },
  {
   "cell_type": "code",
   "execution_count": 54,
   "metadata": {},
   "outputs": [
    {
     "name": "stdout",
     "output_type": "stream",
     "text": [
      "Algorithme UCB\n",
      "Espérance empirique de trouver le meilleur vaccin pendant la phase d'exploration: 0.82\n",
      "Espérance empirique de trouver le meilleur vaccin pendant la phase d'exploitation: 0.91\n",
      "Écart-type trouver le meilleur vaccin pendant la phase d'exploration: 0.39\n",
      "Écart-type trouver le meilleur vaccin pendant la phase d'exploitation: 0.29\n",
      "Espérance du regret: 57.41\n",
      "Écart-type du regret: 14.17\n"
     ]
    }
   ],
   "source": [
    "torch.random.manual_seed(0)\n",
    "ucb_results = [run_simulation(N, M, mab, ucb_exploitation) for mab in mabs]\n",
    "print(\"Algorithme UCB\")\n",
    "analyze_results(ucb_results)"
   ]
  },
  {
   "cell_type": "code",
   "execution_count": 56,
   "metadata": {},
   "outputs": [
    {
     "name": "stdout",
     "output_type": "stream",
     "text": [
      "Algorithme Thompson\n",
      "Espérance empirique de trouver le meilleur vaccin pendant la phase d'exploration: 0.77\n",
      "Espérance empirique de trouver le meilleur vaccin pendant la phase d'exploitation: 0.96\n",
      "Écart-type trouver le meilleur vaccin pendant la phase d'exploration: 0.42\n",
      "Écart-type trouver le meilleur vaccin pendant la phase d'exploitation: 0.20\n",
      "Espérance du regret: 36.21\n",
      "Écart-type du regret: 13.83\n"
     ]
    }
   ],
   "source": [
    "torch.random.manual_seed(0)\n",
    "thompson_results = [run_simulation(N, M, mab, thompson_exploitation) for mab in mabs]\n",
    "print(\"Algorithme Thompson\")\n",
    "analyze_results(thompson_results)"
   ]
  },
  {
   "cell_type": "markdown",
   "metadata": {},
   "source": [
    "## Tableau Récapitulatif en fonction du nombre de vaccin"
   ]
  },
  {
   "cell_type": "markdown",
   "metadata": {},
   "source": [
    "| Algorithme | Espérance du regret (Premier test K=5) | Écart-type du regret (Premier test K=5) | Espérance du regret (Deuxième test K=100) | Écart-type du regret (Deuxième test K=100) |\n",
    "|------------|-----------------------------------------|------------------------------------------|------------------------------------------|-------------------------------------------|\n",
    "| Glouton    | 29.36                                   | 30.80                                    | 42.15                                    | 28.51                                     |\n",
    "| UCB        | 47.93                                   | 11.34                                    | 57.41                                    | 14.17                                     |\n",
    "| Thompson   | 22.22                                   | 8.21                                     | 36.21                                    | 13.83                                     |\n"
   ]
  },
  {
   "cell_type": "markdown",
   "metadata": {},
   "source": [
    "On constate que l'algorithme de Thompson est le meilleur en termes d'espérance du regret. De plus, pour chaque algorithme, l'augmentation du nombre de vaccins entraîne une hausse du regret. On en conclut que plus la dimension du problème augmente, moins l'algorithme est efficace."
   ]
  }
 ],
 "metadata": {
  "kernelspec": {
   "display_name": "rl",
   "language": "python",
   "name": "python3"
  },
  "language_info": {
   "codemirror_mode": {
    "name": "ipython",
    "version": 3
   },
   "file_extension": ".py",
   "mimetype": "text/x-python",
   "name": "python",
   "nbconvert_exporter": "python",
   "pygments_lexer": "ipython3",
   "version": "3.11.6"
  }
 },
 "nbformat": 4,
 "nbformat_minor": 4
}
